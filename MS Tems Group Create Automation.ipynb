{
 "cells": [
  {
   "cell_type": "code",
   "execution_count": 1,
   "metadata": {},
   "outputs": [],
   "source": [
    "import selenium\n",
    "from selenium import webdriver\n",
    "from selenium.webdriver.support.select import Select \n",
    "from selenium.webdriver.common.keys import Keys\n",
    "from selenium.webdriver.common.by import By\n",
    "from selenium.webdriver.common.action_chains import ActionChains\n",
    "from selenium.webdriver.support.ui import WebDriverWait\n",
    "from selenium.webdriver.support import expected_conditions as EC\n",
    "import time\n",
    "from bs4 import BeautifulSoup\n",
    "import requests\n",
    "import time\n",
    "import easygui"
   ]
  },
  {
   "cell_type": "code",
   "execution_count": 33,
   "metadata": {},
   "outputs": [],
   "source": [
    "ids=easygui.enterbox(msg=\"Enter your Mail ID:\",title=\"Mail ID\",strip=True)\n",
    "pas=easygui.passwordbox(msg=\"Enter your Password:\",title=\"Password\")\n",
    "team=easygui.enterbox(\"Enter the name of the team: \",title=\"Team Name\",strip=True)"
   ]
  },
  {
   "cell_type": "code",
   "execution_count": 30,
   "metadata": {},
   "outputs": [],
   "source": [
    "def add_team_func():\n",
    "    URL='https://login.microsoftonline.com/common/oauth2/authorize?response_type=id_token&client_id=5e3ce6c0-2b1f-4285-8d4b-75ee78787346&redirect_uri=https%3A%2F%2Fteams.microsoft.com%2Fgo&state=a3e39318-0960-4927-8c0f-2a57c52d0394&client-request-id=65d68f2e-5199-412f-970c-a78c93e0001a&x-client-SKU=Js&x-client-Ver=1.0.9&nonce=f1a7c949-f673-4e5d-961b-a7e2d244f523&domain_hint=&sso_reload=true'\n",
    "    page= requests.get(URL)\n",
    "    bs=BeautifulSoup(page.content,'html.parser')\n",
    "    pretty_page=bs.prettify()\n",
    "        \n",
    "    driver = webdriver.Chrome(executable_path='E:/chromedriver.exe')   ## Chomedriver Directory\n",
    "    driver.maximize_window()\n",
    "    driver.get(URL)\n",
    "    action = ActionChains(driver)\n",
    "        \n",
    "    login_id=driver.find_element_by_id('i0116')\n",
    "    login_id.send_keys(ids)      #### Mail Id\n",
    "    submit1=driver.find_element_by_id('idSIButton9')\n",
    "    submit1.click()\n",
    "        \n",
    "        \n",
    "    password=driver.find_element_by_id('i0118')\n",
    "    password.send_keys(pas)                 ##### Password\n",
    "    time.sleep(4)\n",
    "    submit2=driver.find_element_by_id('idSIButton9') # Submitting the password\n",
    "    submit2.click()\n",
    "        \n",
    "    submit3=driver.find_element_by_id('idSIButton9') # To make login \n",
    "    submit3.click()\n",
    "        \n",
    "    WebDriverWait(driver, 50).until(EC.element_to_be_clickable((By.CSS_SELECTOR,'.ts-btn.ts-btn-fluent.ts-btn-fluent-secondary.ts-btn-fluent-with-icon.join-team-button')))\n",
    "    create_team=driver.find_element_by_css_selector('.ts-btn.ts-btn-fluent.ts-btn-fluent-secondary.ts-btn-fluent-with-icon.join-team-button') # select create or join button\n",
    "    create_team.click()\n",
    "        \n",
    "    WebDriverWait(driver, 50).until(EC.element_to_be_clickable((By.CSS_SELECTOR,'.ts-btn.ts-btn-fluent.ts-btn-fluent-with-icon.ts-btn-fluent-primary')))\n",
    "    create=driver.find_element_by_css_selector('.ts-btn.ts-btn-fluent.ts-btn-fluent-with-icon.ts-btn-fluent-primary')\n",
    "    driver.execute_script(\"arguments[0].click();\",create) # This works for hidden buttons as it holds the object until this statement is executed\n",
    "        \n",
    "    WebDriverWait(driver, 50).until(EC.element_to_be_clickable((By.ID,'create-teamname')))\n",
    "    team_name=driver.find_element_by_id('create-teamname')\n",
    "    team_name.send_keys(team)      ## Name of the Team\n",
    "         \n",
    "#          next_button=driver.find_element_by_css_selector('button.ts-btn.ts-btn-fluent.ts-btn-fluent-primary')\n",
    "\n",
    "\n",
    "    ######### Adding the members\n",
    "    ###### Click on Next before Continuing ##################\n",
    "    print(\"Click on Next before Continuing\")\n",
    "    df=pd.read_excel(r'files\\example.xlsx')\n",
    "    WebDriverWait(driver,500).until(EC.element_to_be_clickable((By.CSS_SELECTOR,'.ts-search-input.ng-pristine.ng-valid.ng-empty.ng-touched')))\n",
    "    member_name=driver.find_element_by_css_selector('.ts-search-input.ng-pristine.ng-valid.ng-empty.ng-touched')\n",
    "    for i in range(len(df['id'])):\n",
    "        member_name.send_keys(df['id'][i])\n",
    "        time.sleep(5)\n",
    "        member_name.send_keys(Keys.ARROW_DOWN)\n",
    "        member_name.send_keys(Keys.ENTER)"
   ]
  },
  {
   "cell_type": "code",
   "execution_count": 31,
   "metadata": {},
   "outputs": [],
   "source": [
    "if ids==None or pas==None or ids=='' or pas=='':\n",
    "    pass\n",
    "else:\n",
    "    try:\n",
    "        add_team_func()\n",
    "    except:\n",
    "        rerun=easygui.ccbox(msg='Something wetn wrong!!!\\n Do you want to continue re-run of the code')\n",
    "        if(rerun==True):\n",
    "            add_team_func()\n",
    "        else:\n",
    "            pass"
   ]
  },
  {
   "cell_type": "markdown",
   "metadata": {},
   "source": [
    "### Just Click on the Add Button and the teams will be created!!!"
   ]
  }
 ],
 "metadata": {
  "kernelspec": {
   "display_name": "Python 3",
   "language": "python",
   "name": "python3"
  },
  "language_info": {
   "codemirror_mode": {
    "name": "ipython",
    "version": 3
   },
   "file_extension": ".py",
   "mimetype": "text/x-python",
   "name": "python",
   "nbconvert_exporter": "python",
   "pygments_lexer": "ipython3",
   "version": "3.7.6"
  }
 },
 "nbformat": 4,
 "nbformat_minor": 4
}
